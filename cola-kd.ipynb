{
 "cells": [
  {
   "cell_type": "code",
   "execution_count": 1,
   "metadata": {
    "id": "ExlZ7LhZkVuc"
   },
   "outputs": [
    {
     "name": "stderr",
     "output_type": "stream",
     "text": [
      "/home/hice1/htang317/.conda/envs/env/lib/python3.9/site-packages/scipy/__init__.py:146: UserWarning: A NumPy version >=1.17.3 and <1.25.0 is required for this version of SciPy (detected version 1.26.0\n",
      "  warnings.warn(f\"A NumPy version >={np_minversion} and <{np_maxversion}\"\n"
     ]
    }
   ],
   "source": [
    "import torch\n",
    "import evaluate\n",
    "\n",
    "from datasets import load_dataset\n",
    "from transformers import AutoTokenizer, AutoModelForSequenceClassification, AutoModel, AutoConfig\n",
    "from transformers.modeling_outputs import SequenceClassifierOutput\n",
    "\n",
    "from torch import nn\n",
    "from torch.optim import AdamW\n",
    "\n",
    "from tqdm import tqdm\n",
    "\n",
    "dataset = load_dataset(\"glue\", \"cola\")"
   ]
  },
  {
   "cell_type": "code",
   "execution_count": 2,
   "metadata": {
    "id": "mjWWZe06ZZDG"
   },
   "outputs": [
    {
     "data": {
      "text/plain": [
       "(8551, 1043)"
      ]
     },
     "execution_count": 2,
     "metadata": {},
     "output_type": "execute_result"
    }
   ],
   "source": [
    "len(dataset[\"train\"]), len(dataset[\"validation\"])"
   ]
  },
  {
   "cell_type": "code",
   "execution_count": 3,
   "metadata": {},
   "outputs": [],
   "source": [
    "\n",
    "class Distillation(nn.Module):\n",
    "  def __init__(self, teacher, student, num_labels=2): \n",
    "    super(Distillation, self).__init__() \n",
    "    self.teacher = AutoModelForSequenceClassification.from_pretrained(\n",
    "        teacher,\n",
    "        config=AutoConfig.from_pretrained(teacher, output_attentions=True,output_hidden_states=True, num_labels=num_labels))\n",
    "    self.student = AutoModelForSequenceClassification.from_pretrained(\n",
    "        student,\n",
    "        config=AutoConfig.from_pretrained(student, output_attentions=True,output_hidden_states=True, num_labels=num_labels))\n",
    "    \n",
    "    self.kl_div_loss = nn.KLDivLoss(reduction=\"batchmean\", log_target=True)\n",
    "    self.mse_loss = nn.MSELoss()\n",
    "    self.eps = 1e-8\n",
    "\n",
    "  def forward(self, input_ids=None, attention_mask=None, labels=None, who=None):\n",
    "    assert who in (None, \"teacher\", \"student\"), f\"invalid argument {who=}\"\n",
    "    if who == \"teacher\":\n",
    "        return self.teacher(input_ids=input_ids, attention_mask=attention_mask, labels=labels)\n",
    "    if who == \"student\":\n",
    "        return self.student(input_ids=input_ids, attention_mask=attention_mask, labels=labels)\n",
    "\n",
    "    t_outputs = self.teacher(input_ids=input_ids, attention_mask=attention_mask, labels=labels)  # type: SequenceClassifierOutput\n",
    "    s_outputs = self.student(input_ids=input_ids, attention_mask=attention_mask, labels=labels)  # type: SequenceClassifierOutput\n",
    "    # task loss\n",
    "    t_task_loss, t_logits, t_hidden_states, t_attentions = t_outputs.to_tuple()\n",
    "    s_task_loss, s_logits, s_hidden_states, s_attentions = s_outputs.to_tuple()\n",
    "\n",
    "    # KL-divergence loss\n",
    "    s_kl_loss = self.kl_div_loss(t_logits.detach(), s_logits) / (s_task_loss.detach() + t_task_loss.detach() + self.eps)\n",
    "    t_kl_loss = self.kl_div_loss(s_logits.detach(), t_logits) / (s_task_loss.detach() + t_task_loss.detach() + self.eps)\n",
    "\n",
    "    # attention loss\n",
    "    attention_layer_ratio = len(t_attentions) // len(s_attentions)\n",
    "\n",
    "    # TODO if the attention dimensions don't line up for some pair of teacher/student model we want to evaluate (like bert-large vs bert)\n",
    "    # then we need to apply a learnable matrix to the teacher attention to line up the dimensions before applying the mse loss\n",
    "    assert t_attentions[0].size() == s_attentions[0].size(), f\"teacher and student attention dimensions don't match, {t_attentions[0].size()=}, {s_attentions[0].size()=}\"\n",
    "    mse_loss = 0.\n",
    "    for s_layer in range(len(s_attentions)):\n",
    "        t_layer = s_layer * 2\n",
    "        mse_loss += self.mse_loss(s_attentions[-s_layer - 1], t_attentions[-t_layer - 1])\n",
    "        # adding the hidden-layer loss blows up the training\n",
    "        # self.mse_loss(s_hidden_states[-s_layer - 1], t_hidden_states[-t_layer - 1])\n",
    "    mse_loss = mse_loss / (s_task_loss + t_task_loss + self.eps)\n",
    "    # outputs = last_hidden_state=[batch_size, sentence_length, features/embeddings] hidden_states=7 attentions=6\n",
    "\n",
    "    total_loss = s_task_loss + t_task_loss + mse_loss + s_kl_loss + t_kl_loss\n",
    "#     total_loss = s_task_loss + t_task_loss + s_kl_loss + t_kl_loss + mse_loss\n",
    "    total_logits = s_outputs.logits + t_outputs.logits\n",
    "    if torch.any(total_logits.isnan()):\n",
    "        raise RuntimeError(\"logits blew up\")\n",
    "    return SequenceClassifierOutput(loss=total_loss, logits=total_logits)"
   ]
  },
  {
   "cell_type": "code",
   "execution_count": 4,
   "metadata": {
    "id": "gpCLlSmDmhrn"
   },
   "outputs": [],
   "source": [
    "tokenizer = AutoTokenizer.from_pretrained(\"bert-base-uncased\")\n",
    "def encode(examples):\n",
    "    return tokenizer(examples[\"sentence\"], truncation=True, padding=\"max_length\")\n",
    "dataset = dataset.map(encode, batched=True)\n",
    "dataset = dataset.map(lambda examples: {\"labels\": examples[\"label\"]}, batched=True)\n",
    "\n",
    "dataset.set_format(type=\"torch\", columns=[\"input_ids\", \"attention_mask\", \"labels\"])  # bert\n",
    "train_dataset = dataset[\"train\"]\n",
    "test_dataset = dataset[\"validation\"]\n",
    "train_dataloader = torch.utils.data.DataLoader(train_dataset, batch_size=8)\n",
    "test_dataloader = torch.utils.data.DataLoader(test_dataset, batch_size=8)"
   ]
  },
  {
   "cell_type": "code",
   "execution_count": 5,
   "metadata": {},
   "outputs": [
    {
     "name": "stderr",
     "output_type": "stream",
     "text": [
      "Some weights of BertForSequenceClassification were not initialized from the model checkpoint at bert-base-uncased and are newly initialized: ['classifier.weight', 'classifier.bias']\n",
      "You should probably TRAIN this model on a down-stream task to be able to use it for predictions and inference.\n",
      "Some weights of DistilBertForSequenceClassification were not initialized from the model checkpoint at distilbert-base-uncased and are newly initialized: ['pre_classifier.weight', 'classifier.weight', 'pre_classifier.bias', 'classifier.bias']\n",
      "You should probably TRAIN this model on a down-stream task to be able to use it for predictions and inference.\n"
     ]
    }
   ],
   "source": [
    "model = Distillation(teacher=\"bert-base-uncased\", student=\"distilbert-base-uncased\")"
   ]
  },
  {
   "cell_type": "code",
   "execution_count": 6,
   "metadata": {
    "id": "BMdn5zzun451",
    "scrolled": false
   },
   "outputs": [],
   "source": [
    "optimizer = AdamW(model.parameters(), lr=5e-5)\n",
    "from transformers import get_scheduler\n",
    "num_epochs = 3\n",
    "\n",
    "num_training_steps = num_epochs * len(train_dataloader)\n",
    "\n",
    "lr_scheduler = get_scheduler(\n",
    "    name=\"linear\", optimizer=optimizer, num_warmup_steps=0, num_training_steps=num_training_steps\n",
    ")\n",
    "device = torch.device(\"cuda\") if torch.cuda.is_available() else torch.device(\"cpu\")\n",
    "model.to(device);"
   ]
  },
  {
   "cell_type": "code",
   "execution_count": 7,
   "metadata": {
    "id": "9oOA483lqwZx"
   },
   "outputs": [
    {
     "name": "stderr",
     "output_type": "stream",
     "text": [
      "100%|██████████| 3207/3207 [24:57<00:00,  2.18it/s]"
     ]
    }
   ],
   "source": [
    "progress_bar = tqdm(range(num_training_steps))\n",
    "model.train()\n",
    "for epoch in range(num_epochs):\n",
    "    for batch in train_dataloader:\n",
    "        batch = {k: v.to(device) for k, v in batch.items()}\n",
    "        outputs = model(**batch)\n",
    "        loss = outputs.loss\n",
    "        loss.backward()\n",
    "        optimizer.step()\n",
    "        lr_scheduler.step()\n",
    "        optimizer.zero_grad()\n",
    "        progress_bar.update(1)"
   ]
  },
  {
   "cell_type": "code",
   "execution_count": 8,
   "metadata": {
    "id": "CSyyoVXfrGwR"
   },
   "outputs": [
    {
     "data": {
      "text/plain": [
       "{'accuracy': 0.7574304889741131}"
      ]
     },
     "execution_count": 8,
     "metadata": {},
     "output_type": "execute_result"
    }
   ],
   "source": [
    "metric = evaluate.load(\"accuracy\")\n",
    "model.eval()\n",
    "for batch in test_dataloader:\n",
    "    batch = {k: v.to(device) for k, v in batch.items()}\n",
    "    with torch.no_grad():\n",
    "        outputs = model(**batch, who=\"student\")\n",
    "    logits = outputs.logits\n",
    "    predictions = torch.argmax(logits, dim=-1)\n",
    "    metric.add_batch(predictions=predictions, references=batch[\"labels\"])\n",
    "\n",
    "metric.compute()"
   ]
  },
  {
   "cell_type": "code",
   "execution_count": 9,
   "metadata": {},
   "outputs": [
    {
     "data": {
      "text/plain": [
       "{'accuracy': 0.8034515819750719}"
      ]
     },
     "execution_count": 9,
     "metadata": {},
     "output_type": "execute_result"
    }
   ],
   "source": [
    "\n",
    "metric = evaluate.load(\"accuracy\")\n",
    "model.eval()\n",
    "for batch in test_dataloader:\n",
    "    batch = {k: v.to(device) for k, v in batch.items()}\n",
    "    with torch.no_grad():\n",
    "        outputs = model(**batch, who=\"teacher\")\n",
    "    logits = outputs.logits\n",
    "    predictions = torch.argmax(logits, dim=-1)\n",
    "    metric.add_batch(predictions=predictions, references=batch[\"labels\"])\n",
    "\n",
    "metric.compute()"
   ]
  },
  {
   "cell_type": "code",
   "execution_count": 10,
   "metadata": {
    "id": "e6n2QQfMUv9y"
   },
   "outputs": [],
   "source": [
    "def create_predictor(model, who=\"teacher\"):\n",
    "  def predict_proba(text1):\n",
    "    encodings = tokenizer([text1], truncation=True, padding=\"max_length\")\n",
    "    encodings = encodings.convert_to_tensors(\"pt\")\n",
    "    encodings = {k: v.to(device) for k, v in encodings.items()}\n",
    "    with torch.no_grad():\n",
    "      outputs = model(input_ids=encodings[\"input_ids\"], attention_mask=encodings[\"attention_mask\"], who=who)\n",
    "      logits = outputs.logits\n",
    "      predictions = torch.argmax(logits, dim=-1)\n",
    "      return predictions.cpu().numpy()[0]\n",
    "\n",
    "  return predict_proba"
   ]
  },
  {
   "cell_type": "code",
   "execution_count": 11,
   "metadata": {
    "id": "C9QmQJUKwprO"
   },
   "outputs": [
    {
     "data": {
      "text/plain": [
       "1"
      ]
     },
     "execution_count": 11,
     "metadata": {},
     "output_type": "execute_result"
    }
   ],
   "source": [
    "predictor = create_predictor(model, who=\"student\")\n",
    "\n",
    "predictor(\"He beat the dead horse.\")"
   ]
  },
  {
   "cell_type": "code",
   "execution_count": null,
   "metadata": {},
   "outputs": [],
   "source": []
  }
 ],
 "metadata": {
  "accelerator": "GPU",
  "colab": {
   "provenance": []
  },
  "kernelspec": {
   "display_name": "Python [conda env:.conda-env]",
   "language": "python",
   "name": "conda-env-.conda-env-py"
  },
  "language_info": {
   "codemirror_mode": {
    "name": "ipython",
    "version": 3
   },
   "file_extension": ".py",
   "mimetype": "text/x-python",
   "name": "python",
   "nbconvert_exporter": "python",
   "pygments_lexer": "ipython3",
   "version": "3.9.18"
  }
 },
 "nbformat": 4,
 "nbformat_minor": 1
}
